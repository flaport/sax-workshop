{
 "cells": [
  {
   "cell_type": "markdown",
   "id": "e93124ac-15df-4e5e-aef7-4640a3cc0fb4",
   "metadata": {},
   "source": [
    "# Sax Workshop\n",
    "> Virtual workshop given for the University of Illinois - 2024.11.14"
   ]
  },
  {
   "cell_type": "markdown",
   "id": "c4467f12-b806-4f7e-b324-ed6ca45b2cc0",
   "metadata": {
    "papermill": {
     "duration": 0.013571,
     "end_time": "2024-06-17T18:16:25.120812",
     "exception": false,
     "start_time": "2024-06-17T18:16:25.107241",
     "status": "completed"
    },
    "tags": []
   },
   "source": [
    "## Scatter *dictionaries*\n",
    "The core datastructure for specifying scatter parameters in SAX is a dictionary... more specifically a dictionary which maps a port combination (2-tuple) to a scatter parameter (or an array of scatter parameters when considering multiple wavelengths for example). Such a specific dictionary mapping is called ann `SDict` in SAX (`SDict ≈ Dict[Tuple[str,str], float]`)."
   ]
  },
  {
   "cell_type": "markdown",
   "id": "2b7f8e05-3b60-498c-8929-14f3c900fbfe",
   "metadata": {
    "papermill": {
     "duration": 0.013547,
     "end_time": "2024-06-17T18:16:25.147934",
     "exception": false,
     "start_time": "2024-06-17T18:16:25.134387",
     "status": "completed"
    },
    "tags": []
   },
   "source": [
    "```\n",
    "in1          out1\n",
    "   \\        /\n",
    "    ========\n",
    "   /        \\\n",
    "in0          out0\n",
    "```"
   ]
  },
  {
   "cell_type": "code",
   "execution_count": null,
   "id": "350d5fc2-a04c-4a80-ac73-9c9196f767f1",
   "metadata": {
    "papermill": {
     "duration": 0.037365,
     "end_time": "2024-06-17T18:16:25.199334",
     "exception": false,
     "start_time": "2024-06-17T18:16:25.161969",
     "status": "completed"
    },
    "tags": []
   },
   "outputs": [],
   "source": [
    "coupling = 0.5\n",
    "kappa = coupling**0.5\n",
    "tau = (1 - coupling) ** 0.5\n",
    "coupler_dict = {\n",
    "    (\"in0\", \"out0\"): tau,\n",
    "    (\"out0\", \"in0\"): tau,\n",
    "    (\"in0\", \"out1\"): 1j * kappa,\n",
    "    (\"out1\", \"in0\"): 1j * kappa,\n",
    "    (\"in1\", \"out0\"): 1j * kappa,\n",
    "    (\"out0\", \"in1\"): 1j * kappa,\n",
    "    (\"in1\", \"out1\"): tau,\n",
    "    (\"out1\", \"in1\"): tau,\n",
    "}\n",
    "coupler_dict"
   ]
  },
  {
   "cell_type": "markdown",
   "id": "88b5a9ff-9a21-4c63-bb11-71b9d5ea93a6",
   "metadata": {
    "papermill": {
     "duration": 0.013571,
     "end_time": "2024-06-17T18:16:25.120812",
     "exception": false,
     "start_time": "2024-06-17T18:16:25.107241",
     "status": "completed"
    },
    "tags": []
   },
   "source": [
    "```{note}\n",
    "#### Advantages of using a dict as S-Matrix representation\n",
    "- Inherently sparse (you only specify the non-zero connections)\n",
    "- Explicit in the ports\n",
    "```"
   ]
  },
  {
   "cell_type": "markdown",
   "id": "ffaa295e-2590-449f-b72d-e6329f574831",
   "metadata": {
    "papermill": {
     "duration": 0.014474,
     "end_time": "2024-06-17T18:16:25.228622",
     "exception": false,
     "start_time": "2024-06-17T18:16:25.214148",
     "status": "completed"
    },
    "tags": []
   },
   "source": [
    "Obviously, it can still be tedious to specify every port in the circuit manually. SAX therefore offers `sax.reciprocal()`, which auto-fills the reverse connection if the forward connection exist. For example:"
   ]
  },
  {
   "cell_type": "code",
   "execution_count": null,
   "id": "32eaf2de-bb2e-4eaf-99c1-b1cd0c596772",
   "metadata": {
    "papermill": {
     "duration": 0.032023,
     "end_time": "2024-06-17T18:16:25.274987",
     "exception": false,
     "start_time": "2024-06-17T18:16:25.242964",
     "status": "completed"
    },
    "tags": []
   },
   "outputs": [],
   "source": [
    "import sax\n",
    "\n",
    "coupler_dict = sax.reciprocal(\n",
    "    {\n",
    "        (\"in0\", \"out0\"): tau,\n",
    "        (\"in0\", \"out1\"): 1j * kappa,\n",
    "        (\"in1\", \"out0\"): 1j * kappa,\n",
    "        (\"in1\", \"out1\"): tau,\n",
    "    }\n",
    ")\n",
    "\n",
    "coupler_dict"
   ]
  },
  {
   "cell_type": "markdown",
   "id": "60fe8d80-998c-4103-a790-ce5045d0547c",
   "metadata": {},
   "source": [
    "## A first Model: the coupler"
   ]
  },
  {
   "cell_type": "markdown",
   "id": "12",
   "metadata": {
    "papermill": {
     "duration": 0.014292,
     "end_time": "2024-06-17T18:16:25.334675",
     "exception": false,
     "start_time": "2024-06-17T18:16:25.320383",
     "status": "completed"
    },
    "tags": []
   },
   "source": [
    "Constructing such an `SDict` is easy, however, usually we're more interested in having parametrized models for our components. To parametrize the coupler `SDict`, just wrap it in a keyword-only function:"
   ]
  },
  {
   "cell_type": "code",
   "execution_count": null,
   "id": "13",
   "metadata": {
    "papermill": {
     "duration": 0.030787,
     "end_time": "2024-06-17T18:16:25.379460",
     "exception": false,
     "start_time": "2024-06-17T18:16:25.348673",
     "status": "completed"
    },
    "tags": []
   },
   "outputs": [],
   "source": [
    "def coupler(coupling=0.5) -> sax.SDict:\n",
    "    kappa = coupling**0.5\n",
    "    tau = (1 - coupling) ** 0.5\n",
    "    coupler_dict = sax.reciprocal(\n",
    "        {\n",
    "            (\"in0\", \"out0\"): tau,\n",
    "            (\"in0\", \"out1\"): 1j * kappa,\n",
    "            (\"in1\", \"out0\"): 1j * kappa,\n",
    "            (\"in1\", \"out1\"): tau,\n",
    "        }\n",
    "    )\n",
    "    return coupler_dict\n",
    "\n",
    "\n",
    "coupler(coupling=0.3)"
   ]
  },
  {
   "cell_type": "markdown",
   "id": "0871394c-bd6c-4c5a-bfa6-843f55fabc67",
   "metadata": {},
   "source": [
    "We just created a perfect coupler with a varying coupling ratio."
   ]
  },
  {
   "cell_type": "markdown",
   "id": "c4ce59a5-acee-4b75-a220-e7240dcb7525",
   "metadata": {},
   "source": [
    "## A second model: the straight waveguide"
   ]
  },
  {
   "cell_type": "code",
   "execution_count": null,
   "id": "15",
   "metadata": {
    "papermill": {
     "duration": 0.025408,
     "end_time": "2024-06-17T18:16:25.446501",
     "exception": false,
     "start_time": "2024-06-17T18:16:25.421093",
     "status": "completed"
    },
    "tags": []
   },
   "outputs": [],
   "source": [
    "import jax.numpy as jnp  # JAX-version of numpy\n",
    "\n",
    "\n",
    "def waveguide(wl=1.55, wl0=1.55, neff=2.34, ng=3.4, length=10.0, loss=0.0) -> sax.SDict:\n",
    "    dwl = wl - wl0\n",
    "    dneff_dwl = (ng - neff) / wl0\n",
    "    neff = neff - dwl * dneff_dwl\n",
    "    phase = 2 * jnp.pi * neff * length / wl\n",
    "    transmission = 10 ** (-loss * length / 20) * jnp.exp(1j * phase)\n",
    "    sdict = sax.reciprocal(\n",
    "        {\n",
    "            (\"in0\", \"out0\"): transmission,\n",
    "        }\n",
    "    )\n",
    "    return sdict"
   ]
  },
  {
   "cell_type": "markdown",
   "id": "16",
   "metadata": {
    "papermill": {
     "duration": 0.013187,
     "end_time": "2024-06-17T18:16:25.473152",
     "exception": false,
     "start_time": "2024-06-17T18:16:25.459965",
     "status": "completed"
    },
    "tags": []
   },
   "source": [
    "That's pretty straightforward. Let's now move on to parametrized circuits:"
   ]
  },
  {
   "cell_type": "markdown",
   "id": "92511c8d-5871-485a-ac62-4423d04e36c4",
   "metadata": {},
   "source": [
    "## A first circuit: the simple mzi"
   ]
  },
  {
   "cell_type": "markdown",
   "id": "18",
   "metadata": {
    "papermill": {
     "duration": 0.014193,
     "end_time": "2024-06-17T18:16:25.528008",
     "exception": false,
     "start_time": "2024-06-17T18:16:25.513815",
     "status": "completed"
    },
    "tags": []
   },
   "source": [
    "Existing models can now be combined into a circuit using `sax.circuit`."
   ]
  },
  {
   "cell_type": "code",
   "execution_count": null,
   "id": "19",
   "metadata": {
    "papermill": {
     "duration": 1.28231,
     "end_time": "2024-06-17T18:16:26.823646",
     "exception": false,
     "start_time": "2024-06-17T18:16:25.541336",
     "status": "completed"
    },
    "tags": []
   },
   "outputs": [],
   "source": [
    "mzi, info = sax.circuit(\n",
    "    netlist={\n",
    "        \"instances\": {\n",
    "            # use the model as-is:\n",
    "            \"lft\": \"coupler\",\n",
    "            # bake in default values for the models:\n",
    "            \"top\": {\"component\": \"waveguide\", \"settings\": {\"length\": 25.0}},\n",
    "            \"btm\": {\"component\": \"waveguide\", \"settings\": {\"length\": 15.0}},\n",
    "            \"rgt\": {\"component\": \"coupler\", \"settings\": {\"coupling\": 0.5}},\n",
    "        },\n",
    "        \"connections\": {\n",
    "            \"lft,out0\": \"btm,in0\",\n",
    "            \"btm,out0\": \"rgt,in0\",\n",
    "            \"lft,out1\": \"top,in0\",\n",
    "            \"top,out0\": \"rgt,in1\",\n",
    "        },\n",
    "        \"ports\": {\n",
    "            \"in0\": \"lft,in0\",\n",
    "            \"in1\": \"lft,in1\",\n",
    "            \"out0\": \"rgt,out0\",\n",
    "            \"out1\": \"rgt,out1\",\n",
    "        },\n",
    "    },\n",
    "    models={\n",
    "        \"coupler\": coupler,\n",
    "        \"waveguide\": waveguide,\n",
    "    },\n",
    ")"
   ]
  },
  {
   "cell_type": "markdown",
   "id": "cc2425e5-eb0b-443f-9a53-b7152fe1db28",
   "metadata": {},
   "source": [
    "When defining the netlist for the circuit, we can choose to use the model as-is, or to bake-in some default settings. "
   ]
  },
  {
   "cell_type": "markdown",
   "id": "e978776e-6df8-4648-8f0d-9b3014d6642d",
   "metadata": {},
   "source": [
    "Then `sax.circuit()` returns two items: `mzi` and `info`. The first one is the model *function* of the mzi. The second one returns additional info about the circuit (usually you can just ignore this)."
   ]
  },
  {
   "cell_type": "markdown",
   "id": "3d75026a-dcbb-4452-8bbd-5c9e24f77f37",
   "metadata": {},
   "source": [
    "Since `mzi` is just a function I should be able to call it:"
   ]
  },
  {
   "cell_type": "code",
   "execution_count": null,
   "id": "a62b24e7-4d39-4119-a357-faca19207dfe",
   "metadata": {},
   "outputs": [],
   "source": [
    "mzi()  # indeed"
   ]
  },
  {
   "cell_type": "markdown",
   "id": "7e0b2456-0e96-4a40-85c2-4c77a93903b8",
   "metadata": {},
   "source": [
    "```{note}\n",
    "#### Why a function?\n",
    "You might be wondering... *\"why does `sax.circuit()` return a function and not just an S-matrix (or S-dict)?\"* The reason for this is that returning a *function* allows you to experiment with changing circuit parameters without having to build the circuit again. This is useful for sweeps, Monte Carlo simulations, optimizations and more\n",
    "```"
   ]
  },
  {
   "cell_type": "markdown",
   "id": "0fc8e115-9c39-4f57-b9e6-93536b2787b9",
   "metadata": {},
   "source": [
    "Let's have a look at the mzi model parameters"
   ]
  },
  {
   "cell_type": "code",
   "execution_count": null,
   "id": "d326440c-3209-460f-9d3e-11b6937ada93",
   "metadata": {},
   "outputs": [],
   "source": [
    "?mzi"
   ]
  },
  {
   "cell_type": "markdown",
   "id": "68b91053-d8b7-45d7-8a4d-1b157cc59731",
   "metadata": {},
   "source": [
    "The circuit takes four parameters: `lft`, `top`, `btm` and `rgt`. These are the instance names of our circuit! Moreover - as you can see - each instance name maps to the parameters of the associated model.\n",
    "\n",
    "This means we could parametrize our mzi as follows:"
   ]
  },
  {
   "cell_type": "code",
   "execution_count": null,
   "id": "83495de0-4d48-4254-9373-9cd06c553173",
   "metadata": {},
   "outputs": [],
   "source": [
    "mzi(lft={\"coupling\": 0.3}, top={\"wl\": 1.31}, btm={\"wl\": 1.31}, rgt={\"coupling\": 0.3})"
   ]
  },
  {
   "cell_type": "markdown",
   "id": "6e3afe43-6d2c-4d72-b587-9243938e97e4",
   "metadata": {},
   "source": [
    "However, many parameter names and values are repeated. Therefore it's sometimes more useful to call the circuit with globally defined parameters:"
   ]
  },
  {
   "cell_type": "code",
   "execution_count": null,
   "id": "d01416cf-fdd8-422e-98b0-0c1ea3241350",
   "metadata": {},
   "outputs": [],
   "source": [
    "mzi(coupling=0.3, wl=1.31)"
   ]
  },
  {
   "cell_type": "markdown",
   "id": "21b85aca-68f8-4ca1-bf27-2e1b4f0f86ec",
   "metadata": {},
   "source": [
    "Globally defined parameters will distribute over any child instance parameters if the child model accepts that parameter. In practice globally defined parameters are often used for ambient parameters like wavelength (`wl`) or temperature (`T`)."
   ]
  },
  {
   "cell_type": "markdown",
   "id": "e40ed5f5-19d4-460a-adf8-4d636ae0d0e2",
   "metadata": {},
   "source": [
    "```{note}\n",
    "#### Summary\n",
    "* The `sax.circuit` function just returns another python function as our *model* for the newly created circuit.\n",
    "* You can 'bake in' default parameters within the netlist\n",
    "* You can override parameters when calling the circuit function\n",
    "* You can override parameters globally when calling a circuit function.\n",
    "```"
   ]
  },
  {
   "cell_type": "markdown",
   "id": "4016cd4a-979e-4b45-8a09-6e7633a76ad2",
   "metadata": {},
   "source": [
    "## A first simulation: wavelength sweep of the simple mzi"
   ]
  },
  {
   "cell_type": "markdown",
   "id": "9dbd4c6f-6438-4a45-a753-469c172e4ac2",
   "metadata": {},
   "source": [
    "You might be tempted to perform a wavelength sweep with a loop:\n",
    "\n",
    "```{caution}\n",
    "Don't do this!\n",
    "```"
   ]
  },
  {
   "cell_type": "code",
   "execution_count": null,
   "id": "ddf3a367-9de1-466c-9553-38d58546af26",
   "metadata": {},
   "outputs": [],
   "source": [
    "%%time\n",
    "S_matrices = []\n",
    "wls = jnp.linspace(1.5, 1.6, 100)\n",
    "for wl in wls:\n",
    "    S = mzi(wl=wl)\n",
    "    S_matrices.append(S)"
   ]
  },
  {
   "cell_type": "markdown",
   "id": "ca496fb4-0f8d-400f-9d6a-e7a9d2194a3a",
   "metadata": {},
   "source": [
    "This is fairly inefficient. Moreover now you're stuck with a list of S-dicts which are pretty hard to merge. In stead, SAX is very good at vectorizing:"
   ]
  },
  {
   "cell_type": "code",
   "execution_count": null,
   "id": "05797465-e0de-448c-be82-115370dae7c7",
   "metadata": {},
   "outputs": [],
   "source": [
    "%%time\n",
    "S = mzi(wl=wls)"
   ]
  },
  {
   "cell_type": "markdown",
   "id": "392c7f95-3f46-4bed-ae2e-f917d0055295",
   "metadata": {},
   "source": [
    "What's inside this S-dictionary is just an array of S-parameters (one for each wavelength)"
   ]
  },
  {
   "cell_type": "code",
   "execution_count": null,
   "id": "5418bca0-c448-4cb2-9ac5-76c3a261bfcf",
   "metadata": {},
   "outputs": [],
   "source": [
    "abs(S[\"in0\", \"out0\"])"
   ]
  },
  {
   "cell_type": "markdown",
   "id": "9c431f9e-782d-468a-9e5f-bfe91e032aca",
   "metadata": {},
   "source": [
    "```{note}\n",
    "The array of S-parameters does not need to be 1D! It can have however many dimensions as you'd like (e.g. one dimension per process parameter). This will come in handy for Monte Carlo simulations later on.\n",
    "```"
   ]
  },
  {
   "cell_type": "markdown",
   "id": "48d71a41-1a85-44d3-9c05-d91470479584",
   "metadata": {
    "papermill": {
     "duration": 0.020523,
     "end_time": "2024-06-17T18:16:29.119855",
     "exception": false,
     "start_time": "2024-06-17T18:16:29.099332",
     "status": "completed"
    },
    "tags": []
   },
   "source": [
    "Let's see what this gives:"
   ]
  },
  {
   "cell_type": "code",
   "execution_count": null,
   "id": "f1393af0-7771-485d-b3ff-6ac2c498a1fa",
   "metadata": {
    "papermill": {
     "duration": 0.876359,
     "end_time": "2024-06-17T18:16:30.018056",
     "exception": false,
     "start_time": "2024-06-17T18:16:29.141697",
     "status": "completed"
    },
    "tags": []
   },
   "outputs": [],
   "source": [
    "import matplotlib.pyplot as plt\n",
    "\n",
    "plt.plot(wls * 1e3, abs(S[\"in0\", \"out0\"]) ** 2)\n",
    "plt.ylim(-0.05, 1.05)\n",
    "plt.xlabel(\"λ [nm]\")\n",
    "plt.ylabel(\"T\")\n",
    "plt.ylim(-0.05, 1.05)\n",
    "plt.show()"
   ]
  },
  {
   "cell_type": "markdown",
   "id": "87479048-5db2-4bfa-998e-e4d5c468716d",
   "metadata": {},
   "source": [
    "## A first layout: MZI with heater\n",
    "\n",
    "We can quite easily define out own mzi with heater in GDSFactory:"
   ]
  },
  {
   "cell_type": "code",
   "execution_count": null,
   "id": "5708e1be-438d-48e4-851a-7723a4ec0dcc",
   "metadata": {},
   "outputs": [],
   "source": [
    "import gdsfactory as gf\n",
    "\n",
    "\n",
    "@gf.cell()\n",
    "def mzi_with_heater(\n",
    "    delta_length=10,\n",
    "    height=50,\n",
    "    width=200,\n",
    "    heater_length=100,\n",
    "):\n",
    "    c = gf.Component()\n",
    "    heater = c.add_ref(\n",
    "        gf.components.straight_heater_metal(length=heater_length), name=\"heater\"\n",
    "    )\n",
    "    heater.dmove(\n",
    "        heater[\"o1\"].dcenter,\n",
    "        ((width - heater_length) / 2, height / 2 + delta_length / 2),\n",
    "    )\n",
    "    btmwg = c.add_ref(gf.components.straight(length=100), name=\"btm_straight\")\n",
    "    btmwg.dmove(btmwg[\"o1\"].dcenter, ((width - heater_length) / 2, -height / 2))\n",
    "    inp = c.add_ref(gf.components.mmi2x2(), name=\"inp\")\n",
    "    inp.dmove(inp[\"o3\"].dcenter, (0, inp[\"o2\"].dcenter[1]))\n",
    "    outp = c.add_ref(gf.components.mmi2x2(), name=\"outp\")\n",
    "    outp.dmove(outp[\"o1\"].dcenter, (width, outp[\"o1\"].dcenter[1]))\n",
    "    gf.routing.route_single(\n",
    "        c, port1=inp[\"o3\"], port2=heater[\"o1\"], cross_section=\"strip\"\n",
    "    )\n",
    "    gf.routing.route_single(\n",
    "        c, port1=inp[\"o4\"], port2=btmwg[\"o1\"], cross_section=\"strip\"\n",
    "    )\n",
    "    gf.routing.route_single(\n",
    "        c, port1=outp[\"o2\"], port2=heater[\"o2\"], cross_section=\"strip\"\n",
    "    )\n",
    "    gf.routing.route_single(\n",
    "        c, port1=outp[\"o1\"], port2=btmwg[\"o2\"], cross_section=\"strip\"\n",
    "    )\n",
    "    c.add_ports([inp[\"o1\"], inp[\"o2\"], outp[\"o3\"], outp[\"o4\"]])\n",
    "    return c"
   ]
  },
  {
   "cell_type": "code",
   "execution_count": null,
   "id": "11c38282-eed5-431e-9d8a-71ad58d47509",
   "metadata": {},
   "outputs": [],
   "source": [
    "c_mzi1 = mzi_with_heater().dup()\n",
    "c_mzi1.name = \"c_mzi1\"  # easier to reference name when working with netlists\n",
    "c_mzi1"
   ]
  },
  {
   "cell_type": "markdown",
   "id": "d85ed0bb-ac8f-4d9e-b2e5-7aea89712d90",
   "metadata": {},
   "source": [
    "GDSFactory has a built-in way to extract the netlist from a `gf.Component`:"
   ]
  },
  {
   "cell_type": "code",
   "execution_count": null,
   "id": "80ff161c-7664-4e69-987f-e1dc5c03dacc",
   "metadata": {},
   "outputs": [],
   "source": [
    "# the recursive=True ensures that *all* netlists are extracted in the case of\n",
    "# hierarchical components. This is not really relevant here but it's good practice\n",
    "# to always include it.\n",
    "netlist = c_mzi1.get_netlist(recursive=True)"
   ]
  },
  {
   "cell_type": "markdown",
   "id": "25063882-3065-41dc-80f7-a02d9b7a94ec",
   "metadata": {},
   "source": [
    "This netlist is compatible with SAX. To build our circuit we need to know which models we need:"
   ]
  },
  {
   "cell_type": "code",
   "execution_count": null,
   "id": "8b2757ed-1b1c-41d9-8acd-de69544aa79e",
   "metadata": {},
   "outputs": [],
   "source": [
    "sax.get_required_circuit_models(netlist)"
   ]
  },
  {
   "cell_type": "markdown",
   "id": "465cab8f-cc46-4a95-881f-9a7b609880e6",
   "metadata": {},
   "source": [
    "Since we now have a layout to go from, let's create some better models for those components first:"
   ]
  },
  {
   "cell_type": "markdown",
   "id": "c78a4689-1e9c-49df-b1be-98471c061c6a",
   "metadata": {},
   "source": [
    "## A better waveguide model"
   ]
  },
  {
   "cell_type": "markdown",
   "id": "d3a5f305-a097-4458-9dc4-d2f4531a4255",
   "metadata": {},
   "source": [
    "We can use some GDSFactory utilities to create a `neff` model for our waveguide"
   ]
  },
  {
   "cell_type": "code",
   "execution_count": null,
   "id": "3f3cbe20-6007-482d-8fdc-eb6990f8e260",
   "metadata": {},
   "outputs": [],
   "source": [
    "from tqdm.notebook import tqdm\n",
    "import gplugins.tidy3d as gt\n",
    "\n",
    "widths = jnp.linspace(0.4, 0.6, 5)\n",
    "neffs = []\n",
    "ngs = []\n",
    "for width in tqdm(widths):\n",
    "    strip = gt.modes.Waveguide(\n",
    "        wavelength=1.55,\n",
    "        core_width=width,\n",
    "        core_thickness=0.22,\n",
    "        slab_thickness=0.0,\n",
    "        core_material=\"si\",\n",
    "        clad_material=\"sio2\",\n",
    "        group_index_step=0.01,\n",
    "    )\n",
    "    neffs.append(strip.n_eff[0])\n",
    "    ngs.append(strip.n_group[0])\n",
    "neffs = jnp.real(jnp.array(neffs))\n",
    "ngs = jnp.real(jnp.array(ngs))\n",
    "\n",
    "strip.plot_field(field_name=\"Ex\", mode_index=0)\n",
    "plt.show()"
   ]
  },
  {
   "cell_type": "markdown",
   "id": "aa509317-c47d-4581-9bb2-31f244d89917",
   "metadata": {},
   "source": [
    "Now we can create a very basic width v neff model:"
   ]
  },
  {
   "cell_type": "code",
   "execution_count": null,
   "id": "1b272cc8-5218-42bf-9e20-0e4b6a2ca15f",
   "metadata": {},
   "outputs": [],
   "source": [
    "import scipy.stats\n",
    "\n",
    "m_neff, b_neff, *_ = scipy.stats.linregress(widths, neffs)\n",
    "plt.plot(widths, neffs, \"o\")\n",
    "plt.plot(widths, m_neff * widths + b_neff)\n",
    "plt.grid(True)\n",
    "plt.xlabel(\"width [μm]\")\n",
    "plt.ylabel(\"neff\")\n",
    "plt.title(\"neff @ λ=1.55μm\")\n",
    "plt.show()"
   ]
  },
  {
   "cell_type": "markdown",
   "id": "073089cc-2735-429e-8d34-eea6bb3e6892",
   "metadata": {},
   "source": [
    "And a width v ng model:"
   ]
  },
  {
   "cell_type": "code",
   "execution_count": null,
   "id": "464064d6-a309-4ad0-bc69-3b3e2ae5b4d1",
   "metadata": {},
   "outputs": [],
   "source": [
    "m_ng, b_ng, *_ = scipy.stats.linregress(widths, ngs)\n",
    "plt.plot(widths, ngs, \"o\")\n",
    "plt.plot(widths, m_ng * widths + b_ng)\n",
    "plt.grid(True)\n",
    "plt.xlabel(\"width [μm]\")\n",
    "plt.ylabel(\"ng\")\n",
    "plt.title(\"neff @ λ=1.55μm\")\n",
    "plt.show()"
   ]
  },
  {
   "cell_type": "markdown",
   "id": "770eea20-4713-42fe-afff-379dafb8b33b",
   "metadata": {},
   "source": [
    "```{note}\n",
    "For actual good models we should do this mode calculation with more accuracy, more width points and probably fit a nonlinear model. However, for this tutorial we just roll with the above...\n",
    "```"
   ]
  },
  {
   "cell_type": "markdown",
   "id": "5edb1622-cb68-41af-806f-6d264849bd14",
   "metadata": {},
   "source": [
    "We can now create functions for out fits (valid at wl0=1.5μm)"
   ]
  },
  {
   "cell_type": "code",
   "execution_count": null,
   "id": "87d27ece-ec7d-44f3-95da-f91404dd2d32",
   "metadata": {},
   "outputs": [],
   "source": [
    "def neff0(width):\n",
    "    return m_neff * width + b_neff\n",
    "\n",
    "\n",
    "def ng0(width):\n",
    "    return m_ng * width + b_ng"
   ]
  },
  {
   "cell_type": "markdown",
   "id": "3bdcc375-c98c-43f0-a3a9-a7ae7249f621",
   "metadata": {},
   "source": [
    "We can combine these two into a single neff function which is valid for a wider wavelength range:"
   ]
  },
  {
   "cell_type": "code",
   "execution_count": null,
   "id": "b9476e0d-afe1-4f7c-91ef-f8b71613518d",
   "metadata": {},
   "outputs": [],
   "source": [
    "def neff(wl, width):\n",
    "    wl0 = 1.5\n",
    "    dwl = wl - wl0\n",
    "    _neff0 = neff0(width)\n",
    "    _ng0 = ng0(width)\n",
    "    dneff_dwl = (_ng0 - _neff0) / wl0\n",
    "    neff = _neff0 - dwl * dneff_dwl\n",
    "    return neff"
   ]
  },
  {
   "cell_type": "markdown",
   "id": "f70eb441-628a-46e1-a444-c98bbd4e0cd3",
   "metadata": {},
   "source": [
    "We can plot this as well:"
   ]
  },
  {
   "cell_type": "code",
   "execution_count": null,
   "id": "b5ea6b77-dff2-49be-b398-393d30239564",
   "metadata": {},
   "outputs": [],
   "source": [
    "wls = jnp.linspace(1.5, 1.6, 100)\n",
    "widths = jnp.linspace(0.4, 0.6, 3)\n",
    "neffs = neff(wls[:, None], widths[None, :])\n",
    "plt.plot(wls, neffs)\n",
    "plt.legend([f\"w={1e3*w:.0f}nm\" for w in widths])\n",
    "plt.grid(True)\n",
    "plt.xlabel(\"λ [μm]\")\n",
    "plt.ylabel(\"neff\")\n",
    "plt.title(\"λ v neff (for 3 widths)\")\n",
    "plt.show()"
   ]
  },
  {
   "cell_type": "markdown",
   "id": "bc93b1b2-82cb-43f0-97b3-c8c5eaed7205",
   "metadata": {},
   "source": [
    "We now have a model for our straight:"
   ]
  },
  {
   "cell_type": "code",
   "execution_count": null,
   "id": "aba187eb-d5a2-4abc-a48a-14e9fa9b097c",
   "metadata": {},
   "outputs": [],
   "source": [
    "def straight(wl=1.55, width=0.5, length=10.0, loss=0.0):\n",
    "    _neff = neff(wl, width)\n",
    "    phase = 2 * jnp.pi * _neff * length / wl\n",
    "    transmission = 10 ** (-loss * length / 20) * jnp.exp(1j * phase)\n",
    "    sdict = sax.reciprocal(\n",
    "        {\n",
    "            (\"in0\", \"out0\"): transmission,\n",
    "        }\n",
    "    )\n",
    "    return sdict"
   ]
  },
  {
   "cell_type": "markdown",
   "id": "db73b425-54f0-4c4f-9e52-117d0affd0cb",
   "metadata": {},
   "source": [
    "## Euler Bend"
   ]
  },
  {
   "cell_type": "markdown",
   "id": "f3876a71-182e-41cd-8f63-745a4259fde7",
   "metadata": {},
   "source": [
    "For this tutorial, let's assume the `bend_euler` is exactly the same as the straight, but with a non-zero loss."
   ]
  },
  {
   "cell_type": "code",
   "execution_count": null,
   "id": "3107ec16-be38-40d6-894b-71ccf68c1f36",
   "metadata": {},
   "outputs": [],
   "source": [
    "def bend_euler(wl=1.55, width=0.5, length=10.0, loss=0.01):\n",
    "    return straight(wl=wl, width=width, length=length, loss=loss)"
   ]
  },
  {
   "cell_type": "markdown",
   "id": "3d141fae-0228-4183-bbb1-ceabfbe7c3e9",
   "metadata": {},
   "source": [
    "## Heater\n",
    "\n",
    "A heater is often characterized by its $P_\\pi$: the power needed to have a $\\pi$ phase shift. For the rest we'll assume the same model as the straight:"
   ]
  },
  {
   "cell_type": "code",
   "execution_count": null,
   "id": "22dfd3ee-5a68-43a4-a542-262eb8d88702",
   "metadata": {},
   "outputs": [],
   "source": [
    "def heater(wl=1.55, width=0.5, length=100.0, loss=0.0, P=0.0, Ppi=50):\n",
    "    wl0 = 1.5\n",
    "    dn_dP = wl0 / (2 * length * Ppi)\n",
    "    extra_phase = jnp.exp(2j * jnp.pi * length / wl * dn_dP * P)\n",
    "    return {\n",
    "        k: v * extra_phase\n",
    "        for k, v in straight(wl=wl, width=width, length=length, loss=loss).items()\n",
    "    }"
   ]
  },
  {
   "cell_type": "markdown",
   "id": "806621ea-8adb-4c19-bd91-4f102ac9dccf",
   "metadata": {},
   "source": [
    "## MMI2x2"
   ]
  },
  {
   "cell_type": "markdown",
   "id": "a12394dc-d187-4282-aa95-d06f138c6e01",
   "metadata": {},
   "source": [
    "We can propose an MMI model that looks a bit like the following:"
   ]
  },
  {
   "cell_type": "code",
   "execution_count": null,
   "id": "e1f7192f-a41a-42a2-a80a-10f995ba5a94",
   "metadata": {},
   "outputs": [],
   "source": [
    "from gplugins.sax.models import _mmi_amp\n",
    "\n",
    "\n",
    "def mmi2x2(wl=1.55) -> sax.SDict:\n",
    "    wl0 = 1.55\n",
    "    fwhm = 0.2\n",
    "    loss_dB = 0.3\n",
    "    shift = 0.005\n",
    "\n",
    "    # Convert splitting ratios from power to amplitude by taking the square root\n",
    "    amplitude_ratio_thru = 0.5**0.5\n",
    "    amplitude_ratio_cross = 0.5**0.5\n",
    "\n",
    "    loss_factor_thru = 10 ** (-loss_dB / 20)\n",
    "    loss_factor_cross = 10 ** (-loss_dB / 20)\n",
    "\n",
    "    thru = (\n",
    "        _mmi_amp(wl=wl, wl0=wl0, fwhm=fwhm, loss_dB=loss_dB)\n",
    "        * amplitude_ratio_thru\n",
    "        * loss_factor_thru\n",
    "    )\n",
    "    cross = (\n",
    "        1j\n",
    "        * _mmi_amp(wl=wl, wl0=wl0 + shift, fwhm=fwhm, loss_dB=loss_dB)\n",
    "        * amplitude_ratio_cross\n",
    "        * loss_factor_cross\n",
    "    )\n",
    "\n",
    "    return sax.reciprocal(\n",
    "        {\n",
    "            (\"o1\", \"o3\"): thru,\n",
    "            (\"o1\", \"o4\"): cross,\n",
    "            (\"o2\", \"o3\"): cross,\n",
    "            (\"o2\", \"o4\"): thru,\n",
    "        }\n",
    "    )"
   ]
  },
  {
   "cell_type": "code",
   "execution_count": null,
   "id": "8f4bad67-0619-47a1-acbe-d7af5194f120",
   "metadata": {},
   "outputs": [],
   "source": [
    "wls = jnp.linspace(1.5, 1.6)\n",
    "sdict = mmi2x2(wl=wls)\n",
    "plt.plot(wls, jnp.abs(sdict[\"o1\", \"o3\"]) ** 2)\n",
    "plt.plot(wls, jnp.abs(sdict[\"o2\", \"o3\"]) ** 2)\n",
    "plt.grid(True)\n",
    "plt.show()"
   ]
  },
  {
   "cell_type": "markdown",
   "id": "cbf27735-bf3d-45cf-9b54-c772576c803c",
   "metadata": {},
   "source": [
    "```{warning}\n",
    "I once pulled this model out of my hat somewhere because I just wanted something that *kinda* looks like an MMI transfer curve. By now it has found its way into `gplugins` and other places. Please be careful which models you include in your libraries.\n",
    "```"
   ]
  },
  {
   "cell_type": "markdown",
   "id": "904a7f6b-3579-4261-a1cb-a87454c09063",
   "metadata": {},
   "source": [
    "## Simulate: MZI with heater"
   ]
  },
  {
   "cell_type": "code",
   "execution_count": null,
   "id": "00cf1e12-0cb4-4347-b2be-c725cbca4030",
   "metadata": {},
   "outputs": [],
   "source": [
    "c_mzi1"
   ]
  },
  {
   "cell_type": "code",
   "execution_count": null,
   "id": "bd7d8b5a-7815-405d-af40-290080ac6633",
   "metadata": {},
   "outputs": [],
   "source": [
    "netlist = c_mzi1.get_netlist()"
   ]
  },
  {
   "cell_type": "code",
   "execution_count": null,
   "id": "de28d8ee-f766-4964-80ee-21053771edc8",
   "metadata": {},
   "outputs": [],
   "source": [
    "sax.get_required_circuit_models(netlist)"
   ]
  }
 ],
 "metadata": {
  "kernelspec": {
   "display_name": "Python 3 (ipykernel)",
   "language": "python",
   "name": "python3"
  },
  "language_info": {
   "codemirror_mode": {
    "name": "ipython",
    "version": 3
   },
   "file_extension": ".py",
   "mimetype": "text/x-python",
   "name": "python",
   "nbconvert_exporter": "python",
   "pygments_lexer": "ipython3",
   "version": "3.12.6"
  }
 },
 "nbformat": 4,
 "nbformat_minor": 5
}
