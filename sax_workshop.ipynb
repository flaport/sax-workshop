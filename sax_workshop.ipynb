{
 "cells": [
  {
   "cell_type": "markdown",
   "id": "e93124ac-15df-4e5e-aef7-4640a3cc0fb4",
   "metadata": {},
   "source": [
    "# Sax Workshop\n",
    "> Virtual workshop given for the University of Illinois - 2024.11.14"
   ]
  },
  {
   "cell_type": "markdown",
   "id": "92e0791d-1963-4818-a513-9edf14be6af0",
   "metadata": {},
   "source": [
    ":::{warning}\n",
    "All component models in this tutorial are pulled out of thin air. You can use them as inspiration to build your own models for your own production needs, but please don't use them as is in production.\n",
    ":::"
   ]
  },
  {
   "cell_type": "code",
   "execution_count": null,
   "id": "45a27a2d-daa2-496c-b9de-49e9b1aa1cae",
   "metadata": {},
   "outputs": [],
   "source": []
  }
 ],
 "metadata": {
  "kernelspec": {
   "display_name": "Python 3 (ipykernel)",
   "language": "python",
   "name": "python3"
  },
  "language_info": {
   "codemirror_mode": {
    "name": "ipython",
    "version": 3
   },
   "file_extension": ".py",
   "mimetype": "text/x-python",
   "name": "python",
   "nbconvert_exporter": "python",
   "pygments_lexer": "ipython3",
   "version": "3.12.6"
  }
 },
 "nbformat": 4,
 "nbformat_minor": 5
}
